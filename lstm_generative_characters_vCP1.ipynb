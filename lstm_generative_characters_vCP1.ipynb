{
 "cells": [
  {
   "cell_type": "code",
   "execution_count": 1,
   "metadata": {},
   "outputs": [],
   "source": [
    "import numpy as np\n"
   ]
  },
  {
   "cell_type": "code",
   "execution_count": 2,
   "metadata": {},
   "outputs": [
    {
     "name": "stderr",
     "output_type": "stream",
     "text": [
      "Using TensorFlow backend.\n"
     ]
    }
   ],
   "source": [
    "from keras.callbacks import ModelCheckpoint\n",
    "from keras.layers import Activation, Dense, Dropout, Embedding, LSTM, TimeDistributed, Flatten\n",
    "from keras.models import Sequential\n",
    "from keras.preprocessing import sequence\n",
    "from keras.utils import np_utils\n"
   ]
  },
  {
   "cell_type": "code",
   "execution_count": 8,
   "metadata": {},
   "outputs": [],
   "source": [
    "SEQ_LENGTH = 100\n",
    "length = 250\n",
    "HIDDEN_DIM = 1000\n",
    "BATCH_SIZE = 50\n",
    "LAYER_NUM = 3\n",
    "EPOCHS = 30\n"
   ]
  },
  {
   "cell_type": "code",
   "execution_count": 4,
   "metadata": {},
   "outputs": [
    {
     "name": "stdout",
     "output_type": "stream",
     "text": [
      "Reading data...\n"
     ]
    }
   ],
   "source": [
    "print('Reading data...') \n",
    "FILENAME = 'fortune_quotes.txt' \n",
    "data = open(FILENAME, 'r', encoding='utf8').read()"
   ]
  },
  {
   "cell_type": "code",
   "execution_count": 5,
   "metadata": {
    "scrolled": false
   },
   "outputs": [
    {
     "name": "stdout",
     "output_type": "stream",
     "text": [
      "Creating dictionary...\n",
      "Formatting data for analysis...\n",
      "Finished!  Parsed, cleaned and formatted a document with 824,776 total characters and 76 unique characters for analysis.\n"
     ]
    }
   ],
   "source": [
    "print('Creating dictionary...')\n",
    "\n",
    "data = data.replace('/', '').replace('\\r', '').replace(\n",
    "    '\"', '').replace('[', '').replace(']', '').replace(\n",
    "    '“', '').replace('”', '').replace(':', '').replace(\n",
    "    '(', '').replace(')', '').replace('\\x9d', '').replace(\n",
    "    '\\ufeff', '').replace('â', '').replace(\n",
    "    '™', '').replace('œ', '').replace('¦', '').replace(\n",
    "    '`', '').replace('\\n', ' ')\n",
    "chars = list(set(data))\n",
    "VOCAB_SIZE = len(chars)\n",
    "\n",
    "ix_to_char = {ix:char for ix, char in enumerate(chars)}\n",
    "char_to_ix = {char:ix for ix, char in enumerate(chars)}\n",
    "\n",
    "print('Formatting data for analysis...')\n",
    "\n",
    "X = np.zeros((len(data)//SEQ_LENGTH, SEQ_LENGTH, VOCAB_SIZE))\n",
    "y = np.zeros((len(data)//SEQ_LENGTH, SEQ_LENGTH, VOCAB_SIZE))\n",
    "for i in range(0, len(data)//SEQ_LENGTH):\n",
    "    X_sequence = data[i*SEQ_LENGTH:(i+1)*SEQ_LENGTH]\n",
    "    X_sequence_ix = [char_to_ix[value] for value in X_sequence]\n",
    "    input_sequence = np.zeros((SEQ_LENGTH, VOCAB_SIZE))\n",
    "    for j in range(SEQ_LENGTH):\n",
    "        input_sequence[j][X_sequence_ix[j]] = 1.\n",
    "    X[i] = input_sequence\n",
    "\n",
    "    y_sequence = data[i*SEQ_LENGTH+1:(i+1)*SEQ_LENGTH+1]\n",
    "    y_sequence_ix = [char_to_ix[value] for value in y_sequence]\n",
    "    target_sequence = np.zeros((SEQ_LENGTH, VOCAB_SIZE))\n",
    "    for j in range(SEQ_LENGTH):\n",
    "        target_sequence[j][y_sequence_ix[j]] = 1.\n",
    "    y[i] = target_sequence\n",
    "\n",
    "print('Finished!  Parsed, cleaned and formatted \\\n",
    "a document with {:,} total characters and {:,} \\\n",
    "unique characters for analysis.'.format(len(data), len(chars),))\n"
   ]
  },
  {
   "cell_type": "code",
   "execution_count": 6,
   "metadata": {},
   "outputs": [],
   "source": [
    "def generate_text(model, length):\n",
    "    ix = [np.random.randint(VOCAB_SIZE)]\n",
    "    y_char = [ix_to_char[ix[-1]]]\n",
    "    X = np.zeros((1, length, VOCAB_SIZE))\n",
    "    for i in range(length):\n",
    "        X[0, i, :][ix[-1]] = 1\n",
    "        print(ix_to_char[ix[-1]], end=\"\")\n",
    "        ix = np.argmax(model.predict(X[:, :i+1, :])[0], 1)\n",
    "        y_char.append(ix_to_char[ix[-1]])\n",
    "    return ('').join(y_char)"
   ]
  },
  {
   "cell_type": "code",
   "execution_count": 7,
   "metadata": {},
   "outputs": [
    {
     "name": "stdout",
     "output_type": "stream",
     "text": [
      "\n",
      "\n",
      "Model Ready for Training...\n",
      "\n",
      "\n"
     ]
    }
   ],
   "source": [
    "model = Sequential()\n",
    "model.add(LSTM(HIDDEN_DIM, input_shape=(None, VOCAB_SIZE), return_sequences=True))\n",
    "model.add(LSTM(HIDDEN_DIM, return_sequences=True))\n",
    "for i in range(LAYER_NUM - 1):\n",
    "    model.add(LSTM(HIDDEN_DIM, return_sequences=True))\n",
    "model.add(TimeDistributed(Dense(VOCAB_SIZE)))\n",
    "model.add(Activation('softmax'))\n",
    "model.compile(loss=\"categorical_crossentropy\", optimizer=\"rmsprop\", metrics=['accuracy'])\n",
    "print('\\n')\n",
    "print('Model Ready for Training...')\n",
    "print('\\n')"
   ]
  },
  {
   "cell_type": "code",
   "execution_count": 9,
   "metadata": {
    "scrolled": true
   },
   "outputs": [
    {
     "name": "stdout",
     "output_type": "stream",
     "text": [
      "Training started...\n",
      "\n",
      "\n",
      "INFO - Training model: Epoch:  1  /  30\n",
      "Epoch 1/1\n",
      "8247/8247 [==============================] - 99s - loss: 3.1035 - acc: 0.1708    \n",
      "9t                                                                                                                                                                                                                                                        \n",
      "\n",
      "INFO - Training model: Epoch:  2  /  30\n",
      "Epoch 1/1\n",
      "8247/8247 [==============================] - 97s - loss: 2.8585 - acc: 0.2053    \n",
      "Le an an an an an an an an an an an an an an an an an an an an an an an an an an an an an an an an an an an an an an an an an an an an an an an an an an an an an an an an an an an an an an an an an an an an an an an an an an an an an an an an an an a\n",
      "\n",
      "INFO - Training model: Epoch:  3  /  30\n",
      "Epoch 1/1\n",
      "8247/8247 [==============================] - 96s - loss: 2.3446 - acc: 0.3159    \n",
      "L You whet You whet you whet you whet you whet you whet you whet you whet you whet you whet you whet you whet you whet you whet you whet you whet you whet you whet you whet you whet you whet you whet you whet you whet you whet you whet you whet you w\n",
      "\n",
      "INFO - Training model: Epoch:  4  /  30\n",
      "Epoch 1/1\n",
      "8247/8247 [==============================] - 96s - loss: 2.0993 - acc: 0.3803    \n",
      "Ve and and and and and and and and and and and and and and and and and and and and and and and and and and and and and and and and and and and and and and and and and and and and and and and and and and and and and and and and and and and and and and\n",
      "\n",
      "INFO - Training model: Epoch:  5  /  30\n",
      "Epoch 1/1\n",
      "8247/8247 [==============================] - 96s - loss: 1.8582 - acc: 0.4499    \n",
      "L and the world and the world and the world and the world and the world and the world and the world and the world and the world and the world and the world and the world and the world and the world and the world and the world and the world and the wo\n",
      "\n",
      "INFO - Training model: Epoch:  6  /  30\n",
      "Epoch 1/1\n",
      "8247/8247 [==============================] - 98s - loss: 1.6153 - acc: 0.5186    \n",
      "re and person will be and person and a proced of the success in the success in the success in the success in the success in the success is a procert of the success in the success in the success is a procert of the success in the success is a procert \n",
      "\n",
      "INFO - Training model: Epoch:  7  /  30\n",
      "Epoch 1/1\n",
      "8247/8247 [==============================] - 95s - loss: 1.4441 - acc: 0.5657    \n",
      "J and personal and personal and personal and personal and personal and personal and personal and personal and personal and personal and personal and personal and personal and personal and personal and personal and personal and personal and personal a\n",
      "\n",
      "INFO - Training model: Epoch:  8  /  30\n",
      "Epoch 1/1\n",
      "8247/8247 [==============================] - 96s - loss: 1.3334 - acc: 0.5960    \n",
      "A will be a positive and a positive and a positive and a positive and a positive and a positive and a positive and a positive and a positive and a positive and a positive and a positive and a positive and a positive and a positive and a positive and \n",
      "\n",
      "INFO - Training model: Epoch:  9  /  30\n",
      "Epoch 1/1\n",
      "8247/8247 [==============================] - 96s - loss: 1.2636 - acc: 0.6153    \n",
      "3 and a person who will be a positive and a person who will be a person who will be a person will be a positive and an and an and an and an and an and an and a person who will be a person who will be a person who will be a person will be a positive a\n",
      "\n",
      "INFO - Training model: Epoch:  10  /  30\n",
      "Epoch 1/1\n",
      "8247/8247 [==============================] - 97s - loss: 1.1915 - acc: 0.6345    \n",
      "be a person who will be a person of a person. Your heart and a person who will be a person of an and a person who will be a person of an and a person who will be a person of an and a person who will be a person. Your heart and a person who will be a \n",
      "\n",
      "INFO - Training model: Epoch:  11  /  30\n",
      "Epoch 1/1\n",
      "8247/8247 [==============================] - 97s - loss: 1.1366 - acc: 0.6494    \n",
      "ce and a person of a person. You will be a person of a person who will be a person of an artist. You will be a good life. You will be a person of a person who will be able to be a person. You will be a person of a person who will be a person of an ar\n",
      "\n",
      "INFO - Training model: Epoch:  12  /  30\n",
      "Epoch 1/1\n",
      "8247/8247 [==============================] - 97s - loss: 1.0837 - acc: 0.6647    \n",
      "quickly and all the surrounder of the problem will be really beautiful and a person. You will be a person of a person. You will be a person of a person. You will be a person of a person. You will be a person of a person. You will be a person of a per\n",
      "\n",
      "INFO - Training model: Epoch:  13  /  30\n",
      "Epoch 1/1\n",
      "8247/8247 [==============================] - 97s - loss: 1.0299 - acc: 0.6805    \n",
      "ze and preventing the parent. You will be able to seek and be a great person. You will be able to seek and be a great person. You will be able to seek and be a great person. You will be able to seek to be an intelligence of the past. You will be able\n",
      "\n",
      "INFO - Training model: Epoch:  14  /  30\n",
      "Epoch 1/1\n",
      "8247/8247 [==============================] - 97s - loss: 0.9744 - acc: 0.6975    \n",
      "X freedom and a person who will be really better best in the world. You will be successful in your life. You will be successful in your life. You will be successful in your life. You will be successful in your life. You will be successful in your lif\n",
      "\n",
      "INFO - Training model: Epoch:  15  /  30\n",
      "Epoch 1/1\n",
      "8247/8247 [==============================] - 98s - loss: 0.9175 - acc: 0.7150    \n",
      "our life will be a good day. You will be able to survive and a good decision. You will be able to see any way to get your life with your life with a pleasant powerful and a good decision. You will be able to see any way to get your life with your lif\n",
      "\n",
      "INFO - Training model: Epoch:  16  /  30\n",
      "Epoch 1/1\n",
      "8247/8247 [==============================] - 98s - loss: 0.8572 - acc: 0.7336    \n",
      "and more and about the power of an extra energy in the world. Your life will be reached by a great power to your heart. Your life will be a great power to your heart. Your life will be a great prediction. Your heart and all the time. Your heart and a\n",
      "\n",
      "INFO - Training model: Epoch:  17  /  30\n",
      "Epoch 1/1\n",
      "8247/8247 [==============================] - 98s - loss: 0.7955 - acc: 0.7530    \n",
      "For me and personality. You will be successful in your life and a good deal of a few simple active. You have a deep interest in life and a good deal of a few sees. You will be successful in your life will be successful in your life and a good deal of\n",
      "\n",
      "INFO - Training model: Epoch:  18  /  30\n",
      "Epoch 1/1\n",
      "8247/8247 [==============================] - 98s - loss: 0.7357 - acc: 0.7725    \n",
      "€nder the person who will take you some be a person on the other. You will be able to make money.  You are going to be a person of an attitude and you will be able to make money.  You are going to be a person of an attitude and you will be able to ma\n",
      "\n",
      "INFO - Training model: Epoch:  19  /  30\n",
      "Epoch 1/1\n",
      "8247/8247 [==============================] - 97s - loss: 0.6727 - acc: 0.7924    \n",
      "2 like a friend. Your life will become more interesting. Your ability is always right. Your animal is a deeper fortune. Your ability is always remembered and interest in the war form. Your life will be a great personal and provection in your lifetime\n",
      "\n",
      "INFO - Training model: Epoch:  20  /  30\n",
      "Epoch 1/1\n",
      "8247/8247 [==============================] - 98s - loss: 0.6105 - acc: 0.8121    \n",
      "5 well. You have a great philanthropist in your heart. Your hard work will come true. Your heart warring hard has had years have decision. Your heart will be rewarded for your freedom. You have an admired for your failures and a gambler or any day. Y\n",
      "\n",
      "INFO - Training model: Epoch:  21  /  30\n",
      "Epoch 1/1\n",
      "8247/8247 [==============================] - 97s - loss: 0.5524 - acc: 0.8301    \n",
      "ke a smart man and local expect. You will be able to make money. You will be a great philanthropist in you. You are a person of an extra accomplish and a good time. You are a person of cure for a common sense and integrity. You are a person of an ext\n",
      "\n",
      "INFO - Training model: Epoch:  22  /  30\n",
      "Epoch 1/1\n"
     ]
    },
    {
     "name": "stdout",
     "output_type": "stream",
     "text": [
      "8247/8247 [==============================] - 97s - loss: 0.4951 - acc: 0.8487    \n",
      "y is a virtue, but not when it is in yet will all care able to your problems. You will always have good luck in your paces. Your life will accomplish sound how to get there and purit formed one idea. Your life will get more and more exciting. Your lo\n",
      "\n",
      "INFO - Training model: Epoch:  23  /  30\n",
      "Epoch 1/1\n",
      "8247/8247 [==============================] - 97s - loss: 0.4454 - acc: 0.8645    \n",
      "4 ask you long door at the time of the tide. You will think you are working hard today. You are going to be a person. You love it! You love and advertising. You will take a chance in something in near future. You look at all the time. You will take a\n",
      "\n",
      "INFO - Training model: Epoch:  24  /  30\n",
      "Epoch 1/1\n",
      "8247/8247 [==============================] - 97s - loss: 0.3958 - acc: 0.8799    \n",
      "&will take a pleasant. Your heart will always make itself gets yourself. Your emotional currents are always really. Your ability will be an inspirational poet. Your ability to accomplish the world but yourself. Your representable competitive is incre\n",
      "\n",
      "INFO - Training model: Epoch:  25  /  30\n",
      "Epoch 1/1\n",
      "8247/8247 [==============================] - 96s - loss: 0.3532 - acc: 0.8933    \n",
      "ve in words, act and feeling. You have an active mind. You have an unusual equipment for success. You have an active mind and a keen imagination. You have an unusual equipment for success. You have an unusual equipment for success. You have an active\n",
      "\n",
      "INFO - Training model: Epoch:  26  /  30\n",
      "Epoch 1/1\n",
      "8247/8247 [==============================] - 96s - loss: 0.3166 - acc: 0.9044    \n",
      "minded principles spell so anything else. You have an active mind and a keen imagination. You have an agent can only be better anything that you have an intelligence work is going to happen tomorrow. You have an adventure. You have an addiction to pa\n",
      "\n",
      "INFO - Training model: Epoch:  27  /  30\n",
      "Epoch 1/1\n",
      "8247/8247 [==============================] - 98s - loss: 0.2835 - acc: 0.9151    \n",
      "˜will the rest of you learn.  You along the way you appreciate this. You will be bleak for the same leader of desire. You are blessed, mind, but now it never sits don't give up. You need to achieve them, you become more better. You became more better\n",
      "\n",
      "INFO - Training model: Epoch:  28  /  30\n",
      "Epoch 1/1\n",
      "8247/8247 [==============================] - 97s - loss: 0.2566 - acc: 0.9231    \n",
      "? Your home is the center of great love. Your heart will always make its best. Your are always extraced. Your heart is full of fertile seeds. Your failures will lead to the same process. Your follows have your own happiness. Your failures will lead t\n",
      "\n",
      "INFO - Training model: Epoch:  29  /  30\n",
      "Epoch 1/1\n",
      "8247/8247 [==============================] - 97s - loss: 0.2347 - acc: 0.9296    \n",
      "His sincere and seeing highly his own. Your life will get more and more exciting. Your love life will make a biold a winner. Your emotions respect your friends do not underestimate yourself. Your reputation for a person who can be real changed and co\n",
      "\n",
      "INFO - Training model: Epoch:  30  /  30\n",
      "Epoch 1/1\n",
      "8247/8247 [==============================] - 97s - loss: 0.2138 - acc: 0.9364    \n",
      "OLDING GOOD COVER COODER NOOD COVERSSSS! YOVERSEY NORDS NOON NORSEN NOV. YT YNT YNNNS YOV, YOU HOOUSESERGS COMEYONGON NOT YON NOON TO YOU. YT YISESEY NOVERSEY NOT YONUN NOVER YOV, YOU YOUY TOK YTEYS YOU MOVd, YThe RBa book, but at the end of the day \n",
      "\n",
      "Training Complete!\n"
     ]
    }
   ],
   "source": [
    "print(\"Training started...\")\n",
    "print('\\n')\n",
    "for i in range(EPOCHS):\n",
    "    print('INFO - Training model: Epoch: ', i+1, ' / ', EPOCHS)\n",
    "    model.fit(X,\n",
    "              y,\n",
    "              batch_size=BATCH_SIZE,\n",
    "              epochs=1,\n",
    "              verbose=1,\n",
    "              shuffle=False)\n",
    "    generate_text(model, length)\n",
    "    print('\\n')\n",
    "    if (i % 10 == 0):\n",
    "        model.save_weights('checkpoint_{}_epoch_{}.hdf5'.format(HIDDEN_DIM, i))\n",
    "        \n",
    "print('Training Complete!')\n"
   ]
  },
  {
   "cell_type": "code",
   "execution_count": 11,
   "metadata": {},
   "outputs": [
    {
     "name": "stdout",
     "output_type": "stream",
     "text": [
      "X find in the day to a short row. You will be sharing great news with all people you love through a year. You will be sharing great news with all people you love You will be successful in your work. You will be sharing great news with a book where yo"
     ]
    },
    {
     "data": {
      "text/plain": [
       "'X find in the day to a short row. You will be sharing great news with all people you love through a year. You will be sharing great news with all people you love You will be successful in your work. You will be sharing great news with a book where you'"
      ]
     },
     "execution_count": 11,
     "metadata": {},
     "output_type": "execute_result"
    }
   ],
   "source": [
    "generate_text(model, length)"
   ]
  },
  {
   "cell_type": "code",
   "execution_count": null,
   "metadata": {},
   "outputs": [],
   "source": []
  },
  {
   "cell_type": "code",
   "execution_count": null,
   "metadata": {},
   "outputs": [],
   "source": []
  }
 ],
 "metadata": {
  "kernelspec": {
   "display_name": "Python 3",
   "language": "python",
   "name": "python3"
  },
  "language_info": {
   "codemirror_mode": {
    "name": "ipython",
    "version": 3
   },
   "file_extension": ".py",
   "mimetype": "text/x-python",
   "name": "python",
   "nbconvert_exporter": "python",
   "pygments_lexer": "ipython3",
   "version": "3.5.4"
  }
 },
 "nbformat": 4,
 "nbformat_minor": 2
}
